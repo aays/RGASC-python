{
 "cells": [
  {
   "cell_type": "markdown",
   "metadata": {},
   "source": [
    "# Getting Started With Python - Part II\n",
    "\n",
    "Part 2 of this workshop will expand on the concepts we learned last week to explore how to create a custom object type and simple 'package'. We will begin by learning how to read and write from files in Python before creating a class that implements some custom file parsing operations. Finally, we will have a quick gallery-style look at some established Python packages for data analysis in different fields. \n",
    "\n",
    "Specifically, we will cover:\n",
    "\n",
    "- Reading from and writing to files in Python\n",
    "- Importing packages and understanding namespaces\n",
    "- Creating a simple class in Python"
   ]
  },
  {
   "cell_type": "markdown",
   "metadata": {},
   "source": [
    "## 2.0 Lesson I review\n",
    "\n",
    "Last week, we worked through some introductory Python in the Jupyter environment. We learned that within Jupyter, we can write code and text within *cells*, and that these cells could be set to Code or Markdown (text) using the dropdown menu at the top (or by using `Esc -> Y -> Enter` for Code and `Esc -> M -> Enter` for Markdown). Finally, once we had written the text/code we wanted in a cell, we could use `Shift + Enter` to execute/render the contents of a cell.\n",
    "\n",
    "We started with a review of a few simple object types: integers, floats, and strings: "
   ]
  },
  {
   "cell_type": "code",
   "execution_count": 1,
   "metadata": {},
   "outputs": [
    {
     "name": "stdout",
     "output_type": "stream",
     "text": [
      "<class 'int'> <class 'float'> <class 'str'>\n"
     ]
    }
   ],
   "source": [
    "my_int = 3\n",
    "my_float = 3.0\n",
    "my_str = 'These are some words.'\n",
    "\n",
    "print(type(my_int), type(my_float), type(my_str))"
   ]
  },
  {
   "cell_type": "markdown",
   "metadata": {},
   "source": [
    "We learned that different object types have different *methods* and *attributes* associated with them, which we can call on by adding a `.` followed by the method/attribute name at the end of the object:"
   ]
  },
  {
   "cell_type": "code",
   "execution_count": 2,
   "metadata": {},
   "outputs": [
    {
     "name": "stdout",
     "output_type": "stream",
     "text": [
      "THESE ARE SOME WORDS.\n",
      "These Are Some Words.\n",
      "1\n"
     ]
    }
   ],
   "source": [
    "print(my_str.upper())\n",
    "print(my_str.title())\n",
    "print(my_int.denominator)"
   ]
  },
  {
   "cell_type": "markdown",
   "metadata": {},
   "source": [
    "Note that attributes like `denominator` do not require parentheses, since they are pieces of information and not functions.\n",
    "\n",
    "All the methods and attributes belonging to an object can be returned using the `dir` function. This will also list out lots of methods/attributes that start and end with two underscores; these are more advanced and can usually be ignored. "
   ]
  },
  {
   "cell_type": "code",
   "execution_count": 3,
   "metadata": {},
   "outputs": [
    {
     "name": "stdout",
     "output_type": "stream",
     "text": [
      "['__add__', '__class__', '__contains__', '__delattr__', '__dir__', '__doc__', '__eq__', '__format__', '__ge__', '__getattribute__', '__getitem__', '__getnewargs__', '__gt__', '__hash__', '__init__', '__init_subclass__', '__iter__', '__le__', '__len__', '__lt__', '__mod__', '__mul__', '__ne__', '__new__', '__reduce__', '__reduce_ex__', '__repr__', '__rmod__', '__rmul__', '__setattr__', '__sizeof__', '__str__', '__subclasshook__', 'capitalize', 'casefold', 'center', 'count', 'encode', 'endswith', 'expandtabs', 'find', 'format', 'format_map', 'index', 'isalnum', 'isalpha', 'isascii', 'isdecimal', 'isdigit', 'isidentifier', 'islower', 'isnumeric', 'isprintable', 'isspace', 'istitle', 'isupper', 'join', 'ljust', 'lower', 'lstrip', 'maketrans', 'partition', 'replace', 'rfind', 'rindex', 'rjust', 'rpartition', 'rsplit', 'rstrip', 'split', 'splitlines', 'startswith', 'strip', 'swapcase', 'title', 'translate', 'upper', 'zfill']\n"
     ]
    }
   ],
   "source": [
    "print(dir(my_str))"
   ]
  },
  {
   "cell_type": "markdown",
   "metadata": {},
   "source": [
    "We learned about object types that can store multiple values, like lists and dicts:"
   ]
  },
  {
   "cell_type": "code",
   "execution_count": 4,
   "metadata": {},
   "outputs": [],
   "source": [
    "my_list = [1, 3, 6]\n",
    "fruit_counts = {'apple': 3, 'banana': 5}"
   ]
  },
  {
   "cell_type": "markdown",
   "metadata": {},
   "source": [
    "Finally, we learned about loops, which let us repeat operations over multiple values in objects like the above:"
   ]
  },
  {
   "cell_type": "code",
   "execution_count": 5,
   "metadata": {},
   "outputs": [
    {
     "name": "stdout",
     "output_type": "stream",
     "text": [
      "1\n",
      "3\n",
      "6\n"
     ]
    }
   ],
   "source": [
    "for elem in my_list:\n",
    "    print(elem)"
   ]
  },
  {
   "cell_type": "markdown",
   "metadata": {},
   "source": [
    "## 2.1 Reading from and writing to files in Python\n",
    "\n",
    "To start today's lesson, we're going to cover an incredibly key Python skill for all fields of research: reading from and writing to files from Python.\n",
    "\n",
    "### 2.1.1 Writing to files\n",
    "\n",
    "Most of the time, data analysis workflows start with reading in some data from one or more files and conclude with _writing_ data (e.g. filtered datasets, model outputs) to files as well. \n",
    "\n",
    "To interact with files in Python, we have to first create what as referred to as a *file object*. This is a temporary variable (like the `i` and `elem` variables we used in our for loops earlier) that includes special methods and attributes specific to reading and writing from files.\n",
    "\n",
    "The best and safest way to create a file object in Python is using the `with` keyword along with the `open` function. Let's work through this to write some sample text to a file:"
   ]
  },
  {
   "cell_type": "code",
   "execution_count": 6,
   "metadata": {},
   "outputs": [],
   "source": [
    "with open('my_file.txt', 'w') as f:\n",
    "    f.write('these are some words')"
   ]
  },
  {
   "cell_type": "markdown",
   "metadata": {},
   "source": [
    "Using the file tree on the left side of the Jupyter interface, we can now see that Python has created a file called `my_file.txt`. Double clicking on it will open the file in a new Jupyter tab, and will show that this file indeed contains the specified text.\n",
    "\n",
    "Let's break down what happened here. The `open` function takes in two arguments: first, a filename, and second, the **mode**. The mode determines what Python does to the file. The three modes we're covering today are:\n",
    "\n",
    "1. `'w'` - **w**rite mode. This means Python is primed to _write_ to the specified filename.\n",
    "2. `'r'` - **r**ead mode. This means Python is primed to _read_ from the specified filename.\n",
    "3. `'a'` - **a**ppend mode. This means Python is primed to _write_, but _will not overwrite file contents_ - it will instead append anything it's told to write at the bottom of the file. \n",
    "\n",
    "Next, the file we are interacting with using `open` is temporarily assigned to `f`. This means that for the duration of the indented code immediately afterwards (like in a for loop), `f` is an object with several special methods and attributes we can use to read/write to the file. Finally, we indent the next line and use the `.write` method, which takes in a string, to specify the text we want to write.\n",
    "\n",
    "Note that the `write` method specifically takes in a string. We can convert other object types such as floats and integers to strings using the `str()` function. Let's append some numbers to our file:"
   ]
  },
  {
   "cell_type": "code",
   "execution_count": 7,
   "metadata": {},
   "outputs": [],
   "source": [
    "with open('my_file.txt', 'a') as f:\n",
    "    f.write(str(3))"
   ]
  },
  {
   "cell_type": "markdown",
   "metadata": {},
   "source": [
    "We notice that Python directly just added the number `3` at the end of the line. In instances like this, we have to explicitly tell Python to add a new line using the special `\\n` character."
   ]
  },
  {
   "cell_type": "code",
   "execution_count": 8,
   "metadata": {},
   "outputs": [],
   "source": [
    "with open('my_file.txt', 'a') as f:\n",
    "    f.write('\\n' + str(3))"
   ]
  },
  {
   "cell_type": "markdown",
   "metadata": {},
   "source": [
    "### 2.1.2 Reading from files\n",
    "\n",
    "Reading from files works similarly - the only difference is that we change the mode to `'r'`, which 'unlocks' methods for reading instead. Note that if the mode is incorrectly set (e.g. if you set it to `'r'` and use the `.write()` method) Python will throw an error, because it's not sure which you're trying to do! \n",
    "\n",
    "Let's read from the file we just created:"
   ]
  },
  {
   "cell_type": "code",
   "execution_count": 9,
   "metadata": {},
   "outputs": [
    {
     "name": "stdout",
     "output_type": "stream",
     "text": [
      "these are some words3\n",
      "3\n"
     ]
    }
   ],
   "source": [
    "with open('my_file.txt', 'r') as f:\n",
    "    print(f.read())"
   ]
  },
  {
   "cell_type": "markdown",
   "metadata": {},
   "source": [
    "We can of course save the contents of what's been read in to an object:"
   ]
  },
  {
   "cell_type": "code",
   "execution_count": 10,
   "metadata": {},
   "outputs": [
    {
     "name": "stdout",
     "output_type": "stream",
     "text": [
      "these are some words3\n",
      "3\n"
     ]
    }
   ],
   "source": [
    "with open('my_file.txt', 'r') as f:\n",
    "    contents = f.read()\n",
    "    \n",
    "print(contents)"
   ]
  },
  {
   "cell_type": "markdown",
   "metadata": {},
   "source": [
    "However, note that `.read()` saves *all* the contents of the file into a *single string*. Usually, we will want to use something like `.readlines()` instead, which will pull in each line into a separate string:"
   ]
  },
  {
   "cell_type": "code",
   "execution_count": 11,
   "metadata": {},
   "outputs": [
    {
     "name": "stdout",
     "output_type": "stream",
     "text": [
      "['these are some words3\\n', '3']\n"
     ]
    }
   ],
   "source": [
    "with open('my_file.txt', 'r') as f:\n",
    "    content_list = []\n",
    "    for line in f.readlines():\n",
    "        content_list.append(line)\n",
    "    \n",
    "print(content_list)"
   ]
  },
  {
   "cell_type": "markdown",
   "metadata": {},
   "source": [
    "Since the `\\n` special character is so common, Python has a special string method called `.rstrip()` that lets you remove it:"
   ]
  },
  {
   "cell_type": "code",
   "execution_count": 12,
   "metadata": {},
   "outputs": [
    {
     "name": "stdout",
     "output_type": "stream",
     "text": [
      "['these are some words3', '3']\n"
     ]
    }
   ],
   "source": [
    "with open('my_file.txt', 'r') as f:\n",
    "    content_list = []\n",
    "    for line in f.readlines():\n",
    "        content_list.append(line.rstrip())\n",
    "        \n",
    "print(content_list)"
   ]
  },
  {
   "cell_type": "markdown",
   "metadata": {},
   "source": [
    "Most field-specific packages will have special functions to read in specific data types (e.g. `json` dumps from webservers, `csv` files containing tabular data, etc) but under the hood, the same principles will nearly always apply, and it's likely these special functions are simply doing what we just learned but with a bit more file-specific code tacked on."
   ]
  },
  {
   "cell_type": "markdown",
   "metadata": {},
   "source": [
    "## 2.2 Packages and namespaces\n",
    "\n",
    "If you've ever seen a Python script before, chances are the first few lines of the script have looked something like this:\n",
    "\n",
    "```python\n",
    "import os\n",
    "import sys\n",
    "from math import pi\n",
    "```\n",
    "\n",
    "What does all this mean? What we see here is in some ways the bread and butter of what makes Python such an excellent, flexible, and popular programming language for research purposes: custom packages. Python allows anyone to bundle functions and even custom object classes designed for specific data types into packages. These packages, once installed, can be loaded into a workspace using the `import` keyword.\n",
    "\n",
    "Let's have our first look at this using the `os` package, which contains some useful operating system level operations like listing out the files in a folder. This package comes pre-installed with Python. Let's give it a go:"
   ]
  },
  {
   "cell_type": "code",
   "execution_count": 13,
   "metadata": {},
   "outputs": [],
   "source": [
    "import os"
   ]
  },
  {
   "cell_type": "markdown",
   "metadata": {},
   "source": [
    "Using `import` yields no output, but we now have a host of functions we can use that belong to this package. For example, the `listdir()` function from `os` lists out the contents of our current directory (e.g. the folder in which your Jupyter notebook is). \n",
    "\n",
    "However, we cannot just type out `listdir()`:"
   ]
  },
  {
   "cell_type": "code",
   "execution_count": 14,
   "metadata": {},
   "outputs": [
    {
     "ename": "NameError",
     "evalue": "name 'listdir' is not defined",
     "output_type": "error",
     "traceback": [
      "\u001b[0;31m---------------------------------------------------------------------------\u001b[0m",
      "\u001b[0;31mNameError\u001b[0m                                 Traceback (most recent call last)",
      "\u001b[0;32m<ipython-input-14-aed91e4ebdce>\u001b[0m in \u001b[0;36m<module>\u001b[0;34m\u001b[0m\n\u001b[0;32m----> 1\u001b[0;31m \u001b[0mlistdir\u001b[0m\u001b[0;34m(\u001b[0m\u001b[0;34m)\u001b[0m\u001b[0;34m\u001b[0m\u001b[0;34m\u001b[0m\u001b[0m\n\u001b[0m",
      "\u001b[0;31mNameError\u001b[0m: name 'listdir' is not defined"
     ]
    }
   ],
   "source": [
    "listdir()"
   ]
  },
  {
   "cell_type": "markdown",
   "metadata": {},
   "source": [
    "Python will be confused and claim that it doesn't know what `listdir()` is. This is because Python is very specific about **namespaces**. A namespace can be thought of as a collection of 'names' - object types, functions, methods, attributes - that all belong to a specific thing. Namespaces allow for Python development to be much cleaner and more organized.\n",
    "\n",
    "In this case, we have to tell Python that we mean to use the `listdir()` function from the `os` namespace. We've already seen the syntax for how to work with namespaces - it's the same as how we called methods and attributes earlier! Let's now call on `listdir()` from the `os` package:"
   ]
  },
  {
   "cell_type": "code",
   "execution_count": 15,
   "metadata": {},
   "outputs": [
    {
     "data": {
      "text/plain": [
       "['my_file.txt',\n",
       " 'getting-started-1.ipynb',\n",
       " 'getting-started-2.ipynb',\n",
       " '__pycache__',\n",
       " 'README.md',\n",
       " '.gitignore',\n",
       " '.ipynb_checkpoints',\n",
       " 'fileparser.py',\n",
       " '.git']"
      ]
     },
     "execution_count": 15,
     "metadata": {},
     "output_type": "execute_result"
    }
   ],
   "source": [
    "os.listdir()"
   ]
  },
  {
   "cell_type": "markdown",
   "metadata": {},
   "source": [
    "Why is this so important? Well, it means that more than one function/object named `listdir` can exist in the same Python environment, and both are kept separate by their namespace:"
   ]
  },
  {
   "cell_type": "code",
   "execution_count": 16,
   "metadata": {},
   "outputs": [
    {
     "name": "stdout",
     "output_type": "stream",
     "text": [
      "['desktop', 'documents']\n",
      "['my_file.txt', 'getting-started-1.ipynb', 'getting-started-2.ipynb', '__pycache__', 'README.md', '.gitignore', '.ipynb_checkpoints', 'fileparser.py', '.git']\n"
     ]
    }
   ],
   "source": [
    "listdir = ['desktop', 'documents'] # should probably be called list_of_dirs! \n",
    "\n",
    "print(listdir)\n",
    "print(os.listdir())"
   ]
  },
  {
   "cell_type": "markdown",
   "metadata": {},
   "source": [
    "We can also directly import certain parts of a package using slightly different syntax. For example, if we were to import Python's `math` library, it contains a function called `math.log10`:"
   ]
  },
  {
   "cell_type": "code",
   "execution_count": 17,
   "metadata": {},
   "outputs": [
    {
     "name": "stdout",
     "output_type": "stream",
     "text": [
      "0.6989700043360189\n"
     ]
    }
   ],
   "source": [
    "import math\n",
    "print(math.log10(5))"
   ]
  },
  {
   "cell_type": "markdown",
   "metadata": {},
   "source": [
    "Although this is usually best avoided for individual functions, we *could* load in the `log10` function directly.\n",
    "\n",
    "Before running this next cell, be sure to **restart your kernel**. This will keep your notebook intact, but reset your Python kernel, which means Python will forget all objects you've created and packages you've imported - as if you just opened Python for the first time. This can be done in Jupyter from `Kernel -> Restart Kernel` in the menu bar up top. \n",
    "\n",
    "Let's load in `log10` directly:"
   ]
  },
  {
   "cell_type": "code",
   "execution_count": 18,
   "metadata": {},
   "outputs": [
    {
     "data": {
      "text/plain": [
       "0.6989700043360189"
      ]
     },
     "execution_count": 18,
     "metadata": {},
     "output_type": "execute_result"
    }
   ],
   "source": [
    "from math import log10\n",
    "\n",
    "log10(5)"
   ]
  },
  {
   "cell_type": "markdown",
   "metadata": {},
   "source": [
    "We can now use the function without making the namespace explicit; in fact, doing so raises an error, claiming `math` is not defined:"
   ]
  },
  {
   "cell_type": "code",
   "execution_count": null,
   "metadata": {},
   "outputs": [],
   "source": [
    "math.log10(5)"
   ]
  },
  {
   "cell_type": "markdown",
   "metadata": {},
   "source": [
    "This syntax is useful in two instances:\n",
    "\n",
    "1. Some packages are super complex and contain submodules with their own sets of functions. In that case, we can use the `from` syntax to just import those submodules. For instance, the massive `Bio` package has a big submodule called `SeqIO` - to avoid having to type out `Bio.SeqIO` every time, we can just use `from Bio import SeqIO`. This is the more common and more widely accepted use of this import method. \n",
    "2. The package is massive and memory intensive, and you really only need that one function. Still best avoided but somewhat justifiable in a pinch. \n",
    "\n",
    "Let's restart our kernel once more to remove the standalone `log10` function before moving on.\n",
    "\n",
    "One final thing to note is that the `dir()` function can also be used to check on the contents of a package:"
   ]
  },
  {
   "cell_type": "code",
   "execution_count": null,
   "metadata": {},
   "outputs": [],
   "source": [
    "import math\n",
    "print(dir(math))"
   ]
  },
  {
   "cell_type": "markdown",
   "metadata": {},
   "source": [
    "## 2.3 Creating a class/'package' in Python\n",
    "\n",
    "For our final section of this workshop, we are going to use the read/write operations we learned several moments ago to create a more feature-rich file parser. In doing so, we will learn both how classes are made in Python as well as what's actually happening in the background when we run the `import` function. \n",
    "\n",
    "Here, we are going to create a simple class called `fp`, for 'fileparser'. A **class** in Python is a custom object that has its own user-defined methods and attributes. All classes have one special default method, called `__init__` (two underscores, init, two underscores) that Python will run when we make a new object using our class.\n",
    "\n",
    "Although the custom class will be written in code cells for the remainder of this lesson material, we will actually be writing it in a new text file *during* the lesson. We can open a text file in Jupyter using `File -> New -> Text File`. If you are using Jupyter Notebook instead of Jupyter Lab, head back to the tab that showed a list of files and use the `New` dropdown on the top right to create a text file. Finally, if you are using Spyder, use the `New File` dialog to create a new Python script.\n",
    "\n",
    "If you're using Lab, the file (`untitled.txt` by default) can be renamed via right clicking on it and selecting `Rename`. Let's name this file `fileparser.py` and get started on our class.\n",
    "\n",
    "### 2.3.1 Using `__init__` to define attributes\n",
    "\n",
    "We will start by using the `class` keyword and writing our `__init__` method. Let's write this out and then break it down:"
   ]
  },
  {
   "cell_type": "code",
   "execution_count": 38,
   "metadata": {},
   "outputs": [],
   "source": [
    "class fp:\n",
    "    def __init__(self, fname):\n",
    "        self.fname = fname\n",
    "        self.fname_length = len(fname)"
   ]
  },
  {
   "cell_type": "markdown",
   "metadata": {},
   "source": [
    "The first thing to note here is that when we made functions in the past, the `def` keyword was not indented at all. Remember that indentation is very important in Python! The fact that `def` here is indented underneath `class fp` means that this function belongs to `fp`. In other words, it is a method! This is what methods look like 'under the hood'. \n",
    "\n",
    "Next, we notice that this function has two arguments, or inputs: `self` and `name`. `self` is highlighted blue in Jupyter because it is another special Python keyword. Remember how when we used a method like `my_str.upper()`, we didn't provide any input to the parentheses? This is because under the hood, the `upper` method takes in `self` as input - in other words, it understands that its input is `my_str`, or the object it**self**. \n",
    "\n",
    "Inside a class, virtually all methods take in the `self` argument at minimum - this is because all methods, by design, act on the function itself. Any other inputs are extra and not necessarily required. However, we are adding an `fname` argument to represent the input filename, which we will have to give as input whenever we want to use this class.\n",
    "\n",
    "Looking inside the contents of the `__init__` function, we see there are two variable assignments using syntax we haven't seen before. As it turns out, this is where **attributes** are assigned. We haven't seen very many attributes in built-in objects, but they are much more common in custom packages. Here, we save two attributes: the filename itself, and then the length of the filename, using the `len` function. These are defined by assigning to attributes of `self`, and we can call attributes anything we want. \n",
    "\n",
    "Let's save this text file and then try to import this into our workspace here:"
   ]
  },
  {
   "cell_type": "code",
   "execution_count": 39,
   "metadata": {},
   "outputs": [
    {
     "name": "stdout",
     "output_type": "stream",
     "text": [
      "['__builtins__', '__cached__', '__doc__', '__file__', '__loader__', '__name__', '__package__', '__spec__', 'fp']\n"
     ]
    }
   ],
   "source": [
    "import fileparser\n",
    "\n",
    "print(dir(fileparser))"
   ]
  },
  {
   "cell_type": "markdown",
   "metadata": {},
   "source": [
    "There it is at the end - `fp`. And this is all the `import` keyword does - read in a Python script that defines custom classes (and more)! \n",
    "\n",
    "Of course, to use `fp`, we have to use the full namespace. Let's give `my_file.txt` from earlier as input to a new instance of `fp`:"
   ]
  },
  {
   "cell_type": "code",
   "execution_count": 40,
   "metadata": {},
   "outputs": [
    {
     "name": "stdout",
     "output_type": "stream",
     "text": [
      "['__class__', '__delattr__', '__dict__', '__dir__', '__doc__', '__eq__', '__format__', '__ge__', '__getattribute__', '__gt__', '__hash__', '__init__', '__init_subclass__', '__le__', '__lt__', '__module__', '__ne__', '__new__', '__reduce__', '__reduce_ex__', '__repr__', '__setattr__', '__sizeof__', '__str__', '__subclasshook__', '__weakref__', '_get_extension', 'convert_to_list', 'extension', 'fname', 'fname_length']\n"
     ]
    }
   ],
   "source": [
    "test_file = fileparser.fp('my_file.txt')\n",
    "\n",
    "print(dir(test_file))"
   ]
  },
  {
   "cell_type": "markdown",
   "metadata": {},
   "source": [
    "Now we can use the two attributes we've defined:"
   ]
  },
  {
   "cell_type": "code",
   "execution_count": 41,
   "metadata": {},
   "outputs": [
    {
     "name": "stdout",
     "output_type": "stream",
     "text": [
      "my_file.txt 11\n"
     ]
    }
   ],
   "source": [
    "print(test_file.fname, test_file.fname_length)"
   ]
  },
  {
   "cell_type": "markdown",
   "metadata": {},
   "source": [
    "### 2.3.2 Creating methods\n",
    "\n",
    "Of course, the real action with most object classes is in the methods. So let's create some! Back in our `fileparser.py` file, let's update the class with a simple method that converts the lines of the file to a list and removes any instances of `\\n`. \n",
    "\n",
    "To add another method, we define another function at the same indent level underneath the `class` keyword. We only need to provide `self` as an argument because we can actually get the filename from the `self.fname` attribute we've already made! This helps simplify our methods even further."
   ]
  },
  {
   "cell_type": "code",
   "execution_count": 42,
   "metadata": {},
   "outputs": [],
   "source": [
    "class fp:\n",
    "    def __init__(self, fname):\n",
    "        self.fname = fname\n",
    "        self.fname_length = len(fname)\n",
    "    \n",
    "    def convert_to_list(self):\n",
    "        \"\"\"\n",
    "        Loops through lines in file and returns\n",
    "        contents as a list.\n",
    "        \"\"\"\n",
    "        fname_lines = []\n",
    "        with open(self.fname, 'r') as f:\n",
    "            for line in f:\n",
    "                fname_lines.append(line.rstrip('\\n'))\n",
    "        return fname_lines"
   ]
  },
  {
   "cell_type": "markdown",
   "metadata": {},
   "source": [
    "A few things to note here:\n",
    "\n",
    "- Earlier, we used `for line in f.readlines()` to do something similar. However, Python knows this is a common operation, and so if we just loop over `f` directly it will pull in one line at a time. This is actually really powerful as well because it only loads one line into memory each time, which means you can do this over files that are millions of lines long if you'd like! \n",
    "- Notice that we are using `self.fname` in `open()`. Since we created `self.fname` in `__init__`, Python will know to look there to get the filename. This is a really powerful feature of attributes - they can be used a ton internally.\n",
    "- `__init__` is pretty unique in not having a `return` keyword at the end, but nearly all other methods should have one of those! \n",
    "\n",
    "Let's save `fileparser.py` and restart our kernel just to clear out the older imported version of `fileparser`. Then, let's import this updated version of the class:"
   ]
  },
  {
   "cell_type": "code",
   "execution_count": 43,
   "metadata": {},
   "outputs": [
    {
     "name": "stdout",
     "output_type": "stream",
     "text": [
      "['__class__', '__delattr__', '__dict__', '__dir__', '__doc__', '__eq__', '__format__', '__ge__', '__getattribute__', '__gt__', '__hash__', '__init__', '__init_subclass__', '__le__', '__lt__', '__module__', '__ne__', '__new__', '__reduce__', '__reduce_ex__', '__repr__', '__setattr__', '__sizeof__', '__str__', '__subclasshook__', '__weakref__', 'convert_to_list', 'fname', 'fname_length']\n"
     ]
    }
   ],
   "source": [
    "import fileparser\n",
    "\n",
    "test_file = fileparser.fp('my_file.txt')\n",
    "\n",
    "print(dir(test_file))"
   ]
  },
  {
   "cell_type": "markdown",
   "metadata": {},
   "source": [
    "We can see that `convert_to_list` has been added! Let's give it a whirl: "
   ]
  },
  {
   "cell_type": "code",
   "execution_count": 44,
   "metadata": {},
   "outputs": [
    {
     "data": {
      "text/plain": [
       "['these are some words3', '3']"
      ]
     },
     "execution_count": 44,
     "metadata": {},
     "output_type": "execute_result"
    }
   ],
   "source": [
    "test_file.convert_to_list()"
   ]
  },
  {
   "cell_type": "markdown",
   "metadata": {},
   "source": [
    "### 2.3.3 Dynamically updating attributes with methods\n",
    "\n",
    "We've seen that methods can call on attributes, but it also turns out attributes can also be dynamically created with methods! \n",
    "\n",
    "Let's create a method that will return the extension of a file. We can do this using the `rfind` method that strings have, which returns the position at which the *rightmost* instance of a character is. Let's test it out:"
   ]
  },
  {
   "cell_type": "code",
   "execution_count": 45,
   "metadata": {},
   "outputs": [
    {
     "data": {
      "text/plain": [
       "16"
      ]
     },
     "execution_count": 45,
     "metadata": {},
     "output_type": "execute_result"
    }
   ],
   "source": [
    "test_file_name = 'test_file.sorted.txt'\n",
    "test_file_name.rfind('.')"
   ]
  },
  {
   "cell_type": "markdown",
   "metadata": {},
   "source": [
    "This tells us that the last instance of a `.` is at position 16. We can use slicing notation, which we learned last week in the context of lists, on strings as well:"
   ]
  },
  {
   "cell_type": "code",
   "execution_count": 46,
   "metadata": {},
   "outputs": [
    {
     "data": {
      "text/plain": [
       "'.txt'"
      ]
     },
     "execution_count": 46,
     "metadata": {},
     "output_type": "execute_result"
    }
   ],
   "source": [
    "test_file_name[16:] # the colon means 'character 16 onwards'"
   ]
  },
  {
   "cell_type": "markdown",
   "metadata": {},
   "source": [
    "Looks good - let's implement this into a method. Back to `fileparser.py`:"
   ]
  },
  {
   "cell_type": "code",
   "execution_count": 47,
   "metadata": {},
   "outputs": [],
   "source": [
    "class fp:\n",
    "    def __init__(self, fname):\n",
    "        self.fname = fname\n",
    "        self.fname_length = len(fname)\n",
    "        \n",
    "    def convert_to_list(self):\n",
    "        \"\"\"\n",
    "        Loops through lines in file and returns\n",
    "        contents as a list.\n",
    "        \"\"\"\n",
    "        fname_lines = []\n",
    "        with open(self.fname, 'r') as f:\n",
    "            for line in f:\n",
    "                fname_lines.append(line.rstrip('\\n'))\n",
    "        return fname_lines\n",
    "    \n",
    "    def get_extension(self):\n",
    "        \"\"\"\n",
    "        Gets extension of input filename.\n",
    "        \"\"\"\n",
    "        i = self.fname.rfind('.')\n",
    "        extension = self.fname[i:]\n",
    "        return extension"
   ]
  },
  {
   "cell_type": "markdown",
   "metadata": {},
   "source": [
    "Same old song and dance - let's restart the kernel and give it a shot:"
   ]
  },
  {
   "cell_type": "code",
   "execution_count": 48,
   "metadata": {},
   "outputs": [
    {
     "name": "stdout",
     "output_type": "stream",
     "text": [
      ".txt\n"
     ]
    }
   ],
   "source": [
    "import fileparser\n",
    "\n",
    "test_file = fileparser.fp('my_file.txt')\n",
    "\n",
    "print(test_file.get_extension())"
   ]
  },
  {
   "cell_type": "markdown",
   "metadata": {},
   "source": [
    "Looking good - but wouldn't it be neat if we could save that as an attribute? Turns out we can! "
   ]
  },
  {
   "cell_type": "code",
   "execution_count": 49,
   "metadata": {},
   "outputs": [],
   "source": [
    "class fp:\n",
    "    def __init__(self, fname):\n",
    "        self.fname = fname\n",
    "        self.fname_length = len(fname)\n",
    "        self.extension = self.get_extension()\n",
    "        \n",
    "    def convert_to_list(self):\n",
    "        \"\"\"\n",
    "        Loops through lines in file and returns\n",
    "        contents as a list.\n",
    "        \"\"\"\n",
    "        fname_lines = []\n",
    "        with open(self.fname, 'r') as f:\n",
    "            for line in f:\n",
    "                fname_lines.append(line.rstrip('\\n'))\n",
    "        return fname_lines\n",
    "    \n",
    "    def get_extension(self):\n",
    "        \"\"\"\n",
    "        Get extension of input filename.\n",
    "        \"\"\"\n",
    "        i = self.fname.rfind('.')\n",
    "        extension = self.fname[i:]\n",
    "        return extension"
   ]
  },
  {
   "cell_type": "markdown",
   "metadata": {},
   "source": [
    "Same old kernel restart and reimport:"
   ]
  },
  {
   "cell_type": "code",
   "execution_count": 50,
   "metadata": {},
   "outputs": [
    {
     "data": {
      "text/plain": [
       "'.txt'"
      ]
     },
     "execution_count": 50,
     "metadata": {},
     "output_type": "execute_result"
    }
   ],
   "source": [
    "import fileparser\n",
    "\n",
    "test_file = fileparser.fp('my_file.txt')\n",
    "\n",
    "test_file.extension"
   ]
  },
  {
   "cell_type": "markdown",
   "metadata": {},
   "source": [
    "And there we have it! The attribute was dynamically updated in the background as soon as `__init__` was run.\n",
    "\n",
    "#### 2.3.3.2 Internal vs external use\n",
    "\n",
    "We may actually want to hide the `get_extension` method and keep it for internal use. We can signify this by adding an `_` to the start (i.e. renaming it `_get_extension`) and being careful to update the reference to it in `__init__`. While this doesn't hide the method altogether, it's conventionally used to denote 'private' methods for internal use only - so if you ever see this in a package you are using, chances are you don't need to be using that function! \n",
    "\n",
    "### 2.3.4 Function and object imports\n",
    "\n",
    "To wrap up, let's quickly look at how constants and functions look on the other side. We'll add the following **outside the class** - e.g. these should be fully left indented! "
   ]
  },
  {
   "cell_type": "code",
   "execution_count": 51,
   "metadata": {},
   "outputs": [],
   "source": [
    "def package_name():\n",
    "    print('fileparser!')\n",
    "    \n",
    "euler = 2.71828"
   ]
  },
  {
   "cell_type": "markdown",
   "metadata": {},
   "source": [
    "Now, for the last time (promise!) let's restart our kernel and re-import. We can now access this function and this constant as well. "
   ]
  },
  {
   "cell_type": "code",
   "execution_count": 52,
   "metadata": {},
   "outputs": [
    {
     "name": "stdout",
     "output_type": "stream",
     "text": [
      "fileparser!\n"
     ]
    }
   ],
   "source": [
    "import fileparser\n",
    "\n",
    "fileparser.package_name()"
   ]
  },
  {
   "cell_type": "code",
   "execution_count": 53,
   "metadata": {},
   "outputs": [
    {
     "data": {
      "text/plain": [
       "2.71828"
      ]
     },
     "execution_count": 53,
     "metadata": {},
     "output_type": "execute_result"
    }
   ],
   "source": [
    "fileparser.euler"
   ]
  },
  {
   "cell_type": "markdown",
   "metadata": {},
   "source": [
    "It's important to note that the reason this function and this constant come directly after `fileparser` is that left-aligning them fully makes them part of the main `fileparser` namespace. On the other hand, if we try to access `convert_to_list` similarly -"
   ]
  },
  {
   "cell_type": "code",
   "execution_count": 54,
   "metadata": {},
   "outputs": [
    {
     "ename": "AttributeError",
     "evalue": "module 'fileparser' has no attribute 'convert_to_list'",
     "output_type": "error",
     "traceback": [
      "\u001b[0;31m---------------------------------------------------------------------------\u001b[0m",
      "\u001b[0;31mAttributeError\u001b[0m                            Traceback (most recent call last)",
      "\u001b[0;32m<ipython-input-54-3b729fd6db6d>\u001b[0m in \u001b[0;36m<module>\u001b[0;34m\u001b[0m\n\u001b[0;32m----> 1\u001b[0;31m \u001b[0mfileparser\u001b[0m\u001b[0;34m.\u001b[0m\u001b[0mconvert_to_list\u001b[0m\u001b[0;34m(\u001b[0m\u001b[0;34m)\u001b[0m\u001b[0;34m\u001b[0m\u001b[0;34m\u001b[0m\u001b[0m\n\u001b[0m",
      "\u001b[0;31mAttributeError\u001b[0m: module 'fileparser' has no attribute 'convert_to_list'"
     ]
    }
   ],
   "source": [
    "fileparser.convert_to_list()"
   ]
  },
  {
   "cell_type": "markdown",
   "metadata": {},
   "source": [
    "...it won't work. That's because it's a method of `fileparser.fp`:"
   ]
  },
  {
   "cell_type": "code",
   "execution_count": 55,
   "metadata": {},
   "outputs": [
    {
     "ename": "TypeError",
     "evalue": "convert_to_list() missing 1 required positional argument: 'self'",
     "output_type": "error",
     "traceback": [
      "\u001b[0;31m---------------------------------------------------------------------------\u001b[0m",
      "\u001b[0;31mTypeError\u001b[0m                                 Traceback (most recent call last)",
      "\u001b[0;32m<ipython-input-55-791dae75b3bc>\u001b[0m in \u001b[0;36m<module>\u001b[0;34m\u001b[0m\n\u001b[0;32m----> 1\u001b[0;31m \u001b[0mfileparser\u001b[0m\u001b[0;34m.\u001b[0m\u001b[0mfp\u001b[0m\u001b[0;34m.\u001b[0m\u001b[0mconvert_to_list\u001b[0m\u001b[0;34m(\u001b[0m\u001b[0;34m)\u001b[0m\u001b[0;34m\u001b[0m\u001b[0;34m\u001b[0m\u001b[0m\n\u001b[0m",
      "\u001b[0;31mTypeError\u001b[0m: convert_to_list() missing 1 required positional argument: 'self'"
     ]
    }
   ],
   "source": [
    "fileparser.fp.convert_to_list()"
   ]
  },
  {
   "cell_type": "markdown",
   "metadata": {},
   "source": [
    "Notice the error is now that the function is missing an input, not that Python has no idea what we're referring to! "
   ]
  },
  {
   "cell_type": "markdown",
   "metadata": {},
   "source": [
    "## 2.4 Package Gallery\n",
    "\n",
    "That's it for the lesson material - to wrap up, we'll have a quick look at some established Python packages! \n",
    "\n",
    "Here are a few good ones that we'll be looking up on a browser:\n",
    "\n",
    "- [ArcPy](https://pro.arcgis.com/en/pro-app/arcpy/get-started/what-is-arcpy-.htm)\n",
    "    - [importing ArcPy](https://pro.arcgis.com/en/pro-app/arcpy/get-started/importing-arcpy.htm)\n",
    "    - [example](https://pro.arcgis.com/en/pro-app/arcpy/functions/dataset-properties.htm)\n",
    "- [BioPython](https://biopython.org/)\n",
    "    - [importing BioPython](https://biopython.org/wiki/Documentation)\n",
    "    - [example](https://biopython.org/wiki/SeqIO)\n",
    "- [NLTK](https://www.nltk.org/) (Natural Language Toolkit)\n",
    "- [EarthPy](https://earthpy.readthedocs.io/en/latest/)\n",
    "    - [example](https://earthpy.readthedocs.io/en/latest/gallery_vignettes/plot_bands_functionality.html#sphx-glr-gallery-vignettes-plot-bands-functionality-py)\n",
    "- [chempy](https://pypi.org/project/chempy/)\n",
    "- [`scikit-learn`](https://scikit-learn.org/stable/)\n",
    "    - [example](https://scikit-learn.org/stable/tutorial/basic/tutorial.html#machine-learning-the-problem-setting)"
   ]
  },
  {
   "cell_type": "markdown",
   "metadata": {},
   "source": [
    "## Appendix\n",
    "\n",
    "This section contains material that was not originally part of the lesson, but was covered/requested during the workshop.\n",
    "\n",
    "### Reading a file line by a line\n",
    "\n",
    "Generally, it's good practice to always use the following syntax (`for line in f`) if looping through a file one line at a time:"
   ]
  },
  {
   "cell_type": "code",
   "execution_count": 1,
   "metadata": {},
   "outputs": [
    {
     "name": "stdout",
     "output_type": "stream",
     "text": [
      "these are some words3\n",
      "\n",
      "3\n"
     ]
    }
   ],
   "source": [
    "with open('my_file.txt', 'r') as f:\n",
    "    for line in f:\n",
    "        print(line)"
   ]
  },
  {
   "cell_type": "markdown",
   "metadata": {},
   "source": [
    "This will go through the file one line at a time, but will not save anything but the current line in memory as it goes along. For most uses, this is just fine, because many data files are quite large and we may only want one piece of information from a single line in a dataset at a time.\n",
    "\n",
    "If, however, we want to save all the lines in full, we could create a list and use the `.append` method to save the line one at a time:"
   ]
  },
  {
   "cell_type": "code",
   "execution_count": 2,
   "metadata": {},
   "outputs": [],
   "source": [
    "content_lines = []\n",
    "with open('my_file.txt', 'r') as f:\n",
    "    for line in f:\n",
    "        content_lines.append(line.rstrip())"
   ]
  },
  {
   "cell_type": "markdown",
   "metadata": {},
   "source": [
    "This also allows for some modification of each line (e.g. using the `.rstrip` string method above).\n",
    "\n",
    "Finally, there is a helpful method that simplifies this by returning a list that already contains all the lines in the file - `.readlines`. The only downside to this is that all the lines are returned as-is, so if you'd like to change them in any way, that would have to be done after the fact."
   ]
  },
  {
   "cell_type": "code",
   "execution_count": 3,
   "metadata": {},
   "outputs": [
    {
     "name": "stdout",
     "output_type": "stream",
     "text": [
      "['these are some words3\\n', '3']\n"
     ]
    }
   ],
   "source": [
    "with open('my_file.txt', 'r') as f:\n",
    "    all_lines = f.readlines()\n",
    "    \n",
    "print(all_lines)"
   ]
  },
  {
   "cell_type": "markdown",
   "metadata": {},
   "source": [
    "### Type conversions\n",
    "\n",
    "Where possible, we can convert a Python object from one type to another by using the object name with 'function syntax'. What this **actually** does is create a new instance of the object using the specified class (e.g. `str()` looks like a function, but is actually similar to `fileparser.fp` above in that it is referring to the object class directly, and we are just making a new instance of it) but the syntax looks virtually equivalent."
   ]
  },
  {
   "cell_type": "code",
   "execution_count": 4,
   "metadata": {},
   "outputs": [
    {
     "name": "stdout",
     "output_type": "stream",
     "text": [
      "3 <class 'int'>\n"
     ]
    }
   ],
   "source": [
    "my_str = '3'\n",
    "my_str_as_int = int(my_str)\n",
    "\n",
    "print(my_str_as_int, type(my_str_as_int))"
   ]
  },
  {
   "cell_type": "markdown",
   "metadata": {},
   "source": [
    "This will only work where it makes sense to use the new object type. For instance, changing the string `'This is a string'` to an integer will raise an error since Python won't know how to convert letters into an integer. \n",
    "\n",
    "All the Python object types we've learned about can be used this way:\n",
    "\n",
    "- `str()`\n",
    "- `int()`\n",
    "- `float()`\n",
    "- `list()`\n",
    "- `dict()`"
   ]
  }
 ],
 "metadata": {
  "kernelspec": {
   "display_name": "Python 3",
   "language": "python",
   "name": "python3"
  },
  "language_info": {
   "codemirror_mode": {
    "name": "ipython",
    "version": 3
   },
   "file_extension": ".py",
   "mimetype": "text/x-python",
   "name": "python",
   "nbconvert_exporter": "python",
   "pygments_lexer": "ipython3",
   "version": "3.8.5"
  }
 },
 "nbformat": 4,
 "nbformat_minor": 4
}
