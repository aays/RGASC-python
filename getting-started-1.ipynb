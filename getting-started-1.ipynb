{
 "cells": [
  {
   "cell_type": "markdown",
   "metadata": {},
   "source": [
    "# Getting Started with Python - Part I\n",
    "\n",
    "Part 1 of this introductory workshop is meant to familiarise you with some key concepts in Python programming. Specifically, this lesson will cover the following topics:\n",
    "\n",
    "- Introduction to the Python interpreter and the Jupyter environment\n",
    "- Python object types (e.g., numeric, float, string, etc.)\n",
    "- Iteration (e.g., for loops) and conditional statements (e.g., if/else)\n",
    "\n",
    "## 1.1 The Python interpreter and the Jupyter environment\n",
    "\n",
    "There are many ways to interact with Python. We can run lines of code one at a time into a prompt (using what is known as an _interpreter_) or write multiple lines into a _script_ that can then be run all at once.\n",
    "\n",
    "A middle ground to these two options is offered by **Jupyter**, which is also what we'll be using today. Jupyter files, or _notebooks_, combine text with code, and allow us to run one or more lines of code at once while also writing associated text. \n",
    "\n",
    "Once we've opened Jupyter using the Anaconda Navigator, let's create a new Python notebook. This will bring up a blank page with a space to enter text at the top. This space is referred to as a _cell_, and is how code _or_ text can be entered into Jupyter.\n",
    "\n",
    "To create a new code cell in Jupyter, we use the `+` icon on the top left of the screen. As soon as that button is pressed, a new cell will be created and the cursor will be ready to take in Python code. We can then write one or more lines of code in the cell before executing its contents with `Shift + Enter` or the Play icon on the toolbar.\n",
    "\n",
    "Let's try it now with some simple math:"
   ]
  },
  {
   "cell_type": "code",
   "execution_count": null,
   "metadata": {},
   "outputs": [],
   "source": [
    "2 + 2"
   ]
  },
  {
   "cell_type": "markdown",
   "metadata": {},
   "source": [
    "We see that once this code cell is run, the output will appear right beneath it, and Jupyter will automatically create a new code cell underneath for us to continue typing into. We can always go back and click on a previous cell to modify it if we would like, or to simply re-run it for whatever reason with `Shift + Enter` once more. \n",
    "\n",
    "Notice also the `[1]` to the left of the cell. This number tracks the number of code cells that have been run in the notebook, in addition to the order in which they've been run. Since this was our first code cell, Jupyter displays `[1]` next to it. If we were to re-run the code cell, Jupyter would now display `[2]`. If you restart the notebook, this number will reset and the next code cell you run will once again display `[1]`.\n",
    "\n",
    "These cells can also be used to store text. To change a cell into a text cell instead of a code cell, use the dropdown menu at the top of the screen that says `Code` and instead select `Markdown`. Markdown is a simple means of styling plain text that allows for easy addition of headers and italicized/bold words using plain text characters. In Jupyter, once we've written the contents of a Markdown cell, pressing `Shift + Enter` will render the text as we've written it. Let's try typing the following into a Markdown cell:\n",
    "\n",
    "```\n",
    "This is a sample Markdown cell. Here is some text in _italics_ and some text in **bold**.\n",
    "```\n",
    "\n",
    "Once the cell is run, it should look something like this:"
   ]
  },
  {
   "cell_type": "markdown",
   "metadata": {},
   "source": [
    "> This is a sample Markdown cell. Here is some text in _italics_ and some text in **bold**. "
   ]
  },
  {
   "cell_type": "markdown",
   "metadata": {},
   "source": [
    "To go back and modify a Markdown cell after it's been rendered, simply double click on it. \n",
    "\n",
    "Finally, for the more shortcut-inclined folks, it may be useful to know that `Esc -> M -> Enter` (three separate keystrokes) will convert a cell to Markdown, while `Esc -> Y -> Enter` will convert a cell back to code. "
   ]
  },
  {
   "cell_type": "markdown",
   "metadata": {},
   "source": [
    "## 1.2 Basic Python object types"
   ]
  },
  {
   "cell_type": "markdown",
   "metadata": {},
   "source": [
    "With that out of the way, let's get into doing some actual Python.\n",
    "\n",
    "To begin with, it's key that we understand the different ways of encoding different types of information in Python. Python is very powerful and flexible, but we have to be careful in making sure Python understands how we want it to deal with the information we're providing. In this section, we will cover:\n",
    "\n",
    "- Basic Python object types: Integers, floats, strings\n",
    "- Creating and using variables\n",
    "- Python methods and attributes \n",
    "- Lists and dictionaries"
   ]
  },
  {
   "cell_type": "markdown",
   "metadata": {},
   "source": [
    "### 1.2.1 Numerical data\n",
    "\n",
    "Python features two ways to encode numerical data.\n",
    "\n",
    "Here's math with _integers_:"
   ]
  },
  {
   "cell_type": "code",
   "execution_count": null,
   "metadata": {},
   "outputs": [],
   "source": [
    "2 + 2"
   ]
  },
  {
   "cell_type": "code",
   "execution_count": null,
   "metadata": {},
   "outputs": [],
   "source": [
    "3 * 5"
   ]
  },
  {
   "cell_type": "code",
   "execution_count": null,
   "metadata": {},
   "outputs": [],
   "source": [
    "2 ** 3"
   ]
  },
  {
   "cell_type": "markdown",
   "metadata": {},
   "source": [
    "Versus math with _floating point numbers_, or _floats_ for short:"
   ]
  },
  {
   "cell_type": "code",
   "execution_count": null,
   "metadata": {},
   "outputs": [],
   "source": [
    "2.0 + 2.0"
   ]
  },
  {
   "cell_type": "code",
   "execution_count": null,
   "metadata": {},
   "outputs": [],
   "source": [
    "2.5 * 3"
   ]
  },
  {
   "cell_type": "code",
   "execution_count": null,
   "metadata": {},
   "outputs": [],
   "source": [
    "3 / 9"
   ]
  },
  {
   "cell_type": "markdown",
   "metadata": {},
   "source": [
    "While both deal with numerical data, __integers__ encode whole numbers while __floats__ encode decimal information as well. It's worth knowing the difference between these, since certain operations will specifically expect integers and others will expect floats. Although `3` and `3.0` mean the same thing to us as humans, Python does distinguish between them.\n",
    "\n",
    "Importantly, any operation involving a float will always return a float, _even if all other values are integers_!\n",
    "\n",
    "Of course, most of our time in Python will involve assigning values of interest to __variables__, instead of just treating Python like a fancy manual calculator. A variable, or object, can be thought of as a container for a piece of information we care about.\n",
    "\n",
    "Variables can be named (almost) anything we would like. For instance, let's create a variable `x` with a value of 3:"
   ]
  },
  {
   "cell_type": "code",
   "execution_count": null,
   "metadata": {},
   "outputs": [],
   "source": [
    "x = 3"
   ]
  },
  {
   "cell_type": "markdown",
   "metadata": {},
   "source": [
    "Note that the variable name is on the left and the value on the right. This can be read as 'let x be 3'.\n",
    "\n",
    "Creating a variable also does not yield any output. However, we can provide a variable as input to the **function** `print()` in order to make Python return the variable's value. To use functions in Python, we write the function's name first and then any required inputs in parentheses immediately after:"
   ]
  },
  {
   "cell_type": "code",
   "execution_count": null,
   "metadata": {},
   "outputs": [],
   "source": [
    "print(x)"
   ]
  },
  {
   "cell_type": "markdown",
   "metadata": {},
   "source": [
    "Since this is such a common operation, Jupyter saves us a bit of typing here - namely, us simply typing the variable name will yield the variable's value as output:"
   ]
  },
  {
   "cell_type": "code",
   "execution_count": null,
   "metadata": {},
   "outputs": [],
   "source": [
    "x"
   ]
  },
  {
   "cell_type": "markdown",
   "metadata": {},
   "source": [
    "We can now use the variable for the same things we would be able to do with the underlying value:"
   ]
  },
  {
   "cell_type": "code",
   "execution_count": null,
   "metadata": {},
   "outputs": [],
   "source": [
    "x + 3"
   ]
  },
  {
   "cell_type": "markdown",
   "metadata": {},
   "source": [
    "Before we go further, it's worth mentioning that we can add inline text comments using the `#` symbol. Adding the `#` in a code cell means everything to the right of the `#` will be effectively invisible to Python."
   ]
  },
  {
   "cell_type": "code",
   "execution_count": 11,
   "metadata": {},
   "outputs": [
    {
     "data": {
      "text/plain": [
       "81"
      ]
     },
     "execution_count": 11,
     "metadata": {},
     "output_type": "execute_result"
    }
   ],
   "source": [
    "x ** 4 # x to the power of 4"
   ]
  },
  {
   "cell_type": "markdown",
   "metadata": {},
   "source": [
    "### 1.2.2. Strings encode text data\n",
    "\n",
    "Of course, many of us will want to encode and work with text information as well. Text variables in Python are referred to as **strings**. To create a string, we have to specifically use quotes:"
   ]
  },
  {
   "cell_type": "code",
   "execution_count": 12,
   "metadata": {},
   "outputs": [],
   "source": [
    "my_string = 'Banana'"
   ]
  },
  {
   "cell_type": "markdown",
   "metadata": {},
   "source": [
    "Note that these can be double or single quotes, but you have to be consistent!"
   ]
  },
  {
   "cell_type": "markdown",
   "metadata": {},
   "source": [
    "### 1.3. Functions, methods, and attributes\n",
    "\n",
    "One of Python's most powerful features is how easily it allows us to create our own custom __functions__. Functions allow us to generate output values from differing sets of inputs, without having to repeat code. As a rule of thumb, if you find yourself re-using the same bit of code with only slight modifications, it should probably be a function. We've not looked at any functions besides `print` so far, but we'll be both encountering and making a few more as we go along!\n",
    "\n",
    "Let's illustrate this by example and create a custom function that adds 3 to any input value."
   ]
  },
  {
   "cell_type": "code",
   "execution_count": 13,
   "metadata": {},
   "outputs": [],
   "source": [
    "def add_3(x):\n",
    "    \"\"\"Adds 3 to the input value\"\"\"\n",
    "    y = x + 3\n",
    "    return y"
   ]
  },
  {
   "cell_type": "markdown",
   "metadata": {},
   "source": [
    "Let's break down the function:\n",
    "\n",
    "First, we tell Python that we are creating a custom function using the **def** keyword (short for definition). Notice this word gets highlighted in green; this tells us that this word has a special meaning in Python and should only be used for this purpose.\n",
    "\n",
    "Next, we have the name of our function, which in this case is `add_3`. You can name your function whatever you want, but the name should be clear and indicate something about what the function does. \n",
    "\n",
    "After the name, we tell Python how many input values we expect our function to accept. In this case, our function accepts a single input value, `x`. All input values should be used somewhere in the body of the function. \n",
    "\n",
    "We finish off the first line with `:`, press enter, and Python is nice enough to automatically indent the following lines. Indeed, this indentation is a key feature of Python and is one of the reasons it's such a readable language. Python is so strict about this that if you remove the indentation, you will receive an `IndentationError`.\n",
    "\n",
    "On the first indented line, we've added a __docstring__, which is a small snippet of text surrounded by three double quotes (`\"\"\"`) that describes what the function does and (often) how it should be used. Docstrings are optional but can be very helpful for more complicated functions.\n",
    "\n",
    "On the second indented line is where we start actually using our input to perform some operation. In this case, we are taking our input `x`, adding 3 to it, and assigning this result to a variable `y`. \n",
    "\n",
    "Finally, on the third indented line, we **return** the value of `y` (notice how \"return\" is highlighted in green). \n",
    "\n",
    "Let's see how we can use our function. Do do so, we simply write the name of our custom function and provide whatever value we want as input."
   ]
  },
  {
   "cell_type": "code",
   "execution_count": 14,
   "metadata": {},
   "outputs": [
    {
     "data": {
      "text/plain": [
       "5"
      ]
     },
     "execution_count": 14,
     "metadata": {},
     "output_type": "execute_result"
    }
   ],
   "source": [
    "add_3(2)"
   ]
  },
  {
   "cell_type": "markdown",
   "metadata": {},
   "source": [
    "Notice that by swapping `2` for `x` as the input, Python has replaced `x` in the body of the function with `2` and correctly returned the result of `2 + 3`. \n",
    "\n",
    "We can use this function with additional inputs."
   ]
  },
  {
   "cell_type": "code",
   "execution_count": 15,
   "metadata": {},
   "outputs": [
    {
     "data": {
      "text/plain": [
       "13"
      ]
     },
     "execution_count": 15,
     "metadata": {},
     "output_type": "execute_result"
    }
   ],
   "source": [
    "add_3(10)"
   ]
  },
  {
   "cell_type": "code",
   "execution_count": 16,
   "metadata": {},
   "outputs": [
    {
     "data": {
      "text/plain": [
       "25"
      ]
     },
     "execution_count": 16,
     "metadata": {},
     "output_type": "execute_result"
    }
   ],
   "source": [
    "add_3(22)"
   ]
  },
  {
   "cell_type": "code",
   "execution_count": 17,
   "metadata": {},
   "outputs": [
    {
     "ename": "TypeError",
     "evalue": "can only concatenate str (not \"int\") to str",
     "output_type": "error",
     "traceback": [
      "\u001b[0;31m---------------------------------------------------------------------------\u001b[0m",
      "\u001b[0;31mTypeError\u001b[0m                                 Traceback (most recent call last)",
      "\u001b[0;32m<ipython-input-17-4935fde9bbf2>\u001b[0m in \u001b[0;36m<module>\u001b[0;34m\u001b[0m\n\u001b[0;32m----> 1\u001b[0;31m \u001b[0madd_3\u001b[0m\u001b[0;34m(\u001b[0m\u001b[0;34m'Banana'\u001b[0m\u001b[0;34m)\u001b[0m\u001b[0;34m\u001b[0m\u001b[0;34m\u001b[0m\u001b[0m\n\u001b[0m",
      "\u001b[0;32m<ipython-input-13-443a1ccdfea1>\u001b[0m in \u001b[0;36madd_3\u001b[0;34m(x)\u001b[0m\n\u001b[1;32m      1\u001b[0m \u001b[0;32mdef\u001b[0m \u001b[0madd_3\u001b[0m\u001b[0;34m(\u001b[0m\u001b[0mx\u001b[0m\u001b[0;34m)\u001b[0m\u001b[0;34m:\u001b[0m\u001b[0;34m\u001b[0m\u001b[0;34m\u001b[0m\u001b[0m\n\u001b[1;32m      2\u001b[0m     \u001b[0;34m\"\"\"Adds 3 to the input value\"\"\"\u001b[0m\u001b[0;34m\u001b[0m\u001b[0;34m\u001b[0m\u001b[0m\n\u001b[0;32m----> 3\u001b[0;31m     \u001b[0my\u001b[0m \u001b[0;34m=\u001b[0m \u001b[0mx\u001b[0m \u001b[0;34m+\u001b[0m \u001b[0;36m3\u001b[0m\u001b[0;34m\u001b[0m\u001b[0;34m\u001b[0m\u001b[0m\n\u001b[0m\u001b[1;32m      4\u001b[0m     \u001b[0;32mreturn\u001b[0m \u001b[0my\u001b[0m\u001b[0;34m\u001b[0m\u001b[0;34m\u001b[0m\u001b[0m\n",
      "\u001b[0;31mTypeError\u001b[0m: can only concatenate str (not \"int\") to str"
     ]
    }
   ],
   "source": [
    "add_3('Banana')"
   ]
  },
  {
   "cell_type": "markdown",
   "metadata": {},
   "source": [
    "Oops! Keep in mind that your functions are still bound by Python's interpretation of object types. Python doesn't know how to add an __integer__ type to a __string__ type, resulting in a `TypeError`."
   ]
  },
  {
   "cell_type": "markdown",
   "metadata": {},
   "source": [
    "Finally, you can define functions that take an arbitrary number of input values. For example, here is a function that returns the product of two input values: "
   ]
  },
  {
   "cell_type": "code",
   "execution_count": 18,
   "metadata": {},
   "outputs": [],
   "source": [
    "def multiply_two_numbers(x, y):\n",
    "    \"\"\"Returns the product of both input values\"\"\"\n",
    "    z = x * y\n",
    "    return z"
   ]
  },
  {
   "cell_type": "code",
   "execution_count": 19,
   "metadata": {},
   "outputs": [
    {
     "data": {
      "text/plain": [
       "12"
      ]
     },
     "execution_count": 19,
     "metadata": {},
     "output_type": "execute_result"
    }
   ],
   "source": [
    "multiply_two_numbers(4, 3)"
   ]
  },
  {
   "cell_type": "markdown",
   "metadata": {},
   "source": [
    "One of the most powerful features of Python is the fact that different object types have different _methods_ and _attributes_ associated with them. These can be thought of as functions and information that are unique to certain object types. \n",
    "\n",
    "Why make functions that are object-specific? Well, for example, consider a method that will turn all text uppercase. It would only really make sense to have this method work with strings, since there's no 'uppercase' for the number 3. \n",
    "\n",
    "To use a method that belongs to an object, we use `.` followed by the name of the method and finally a pair of parentheses `()`. Let's try the `upper` method on `my_string`, which we created earlier in the lesson:"
   ]
  },
  {
   "cell_type": "code",
   "execution_count": 20,
   "metadata": {},
   "outputs": [
    {
     "data": {
      "text/plain": [
       "'BANANA'"
      ]
     },
     "execution_count": 20,
     "metadata": {},
     "output_type": "execute_result"
    }
   ],
   "source": [
    "my_string.upper()"
   ]
  },
  {
   "cell_type": "markdown",
   "metadata": {},
   "source": [
    "We have a pair of parentheses at the end of methods because some methods will require further input. However, for something simple like `.upper()`, the only input is the object itself, which we don't need to type out a second time. "
   ]
  },
  {
   "cell_type": "markdown",
   "metadata": {},
   "source": [
    "## 1.4 A few other object types\n",
    "\n",
    "In the preceding section, we explored some of Python's different object types and ways of storing information (e.g., variables). In this section, we'll explore a couple object types in Python that are frequently used for storing data; namely, **lists** and **dictionaries**.\n",
    "\n",
    "### 1.4.1 Lists"
   ]
  },
  {
   "cell_type": "markdown",
   "metadata": {},
   "source": [
    "**Lists** allow us to store an arbitrary number of values that we can then use for downstream operations. For example, lists might store sequences of numbers, Email addresses, names, or even more complex object types. Lists are always surrounded by square brackets `[]`. \n",
    "\n",
    "Here is an example of a list storing a bunch of integers:"
   ]
  },
  {
   "cell_type": "code",
   "execution_count": 21,
   "metadata": {},
   "outputs": [
    {
     "data": {
      "text/plain": [
       "[1, 6, 4, 17, 4, 8]"
      ]
     },
     "execution_count": 21,
     "metadata": {},
     "output_type": "execute_result"
    }
   ],
   "source": [
    "[1, 6, 4, 17, 4, 8]"
   ]
  },
  {
   "cell_type": "markdown",
   "metadata": {},
   "source": [
    "We can assign lists to variables:"
   ]
  },
  {
   "cell_type": "code",
   "execution_count": 22,
   "metadata": {},
   "outputs": [],
   "source": [
    "my_list = [1, 13, 4, 17, 4, 8]"
   ]
  },
  {
   "cell_type": "code",
   "execution_count": 23,
   "metadata": {},
   "outputs": [
    {
     "data": {
      "text/plain": [
       "[1, 13, 4, 17, 4, 8]"
      ]
     },
     "execution_count": 23,
     "metadata": {},
     "output_type": "execute_result"
    }
   ],
   "source": [
    "my_list"
   ]
  },
  {
   "cell_type": "markdown",
   "metadata": {},
   "source": [
    "Similar to strings and other object types, lists have their own _methods_. For example, we can use the `sort()` method to sort the list in _ascending_ order."
   ]
  },
  {
   "cell_type": "code",
   "execution_count": 24,
   "metadata": {},
   "outputs": [
    {
     "data": {
      "text/plain": [
       "[1, 4, 4, 8, 13, 17]"
      ]
     },
     "execution_count": 24,
     "metadata": {},
     "output_type": "execute_result"
    }
   ],
   "source": [
    "my_list.sort()\n",
    "my_list"
   ]
  },
  {
   "cell_type": "markdown",
   "metadata": {},
   "source": [
    "By specifying the `reverse=True` input (or _argument_) to the `sort` method, we can sort the list in _descending_ order:"
   ]
  },
  {
   "cell_type": "code",
   "execution_count": 25,
   "metadata": {},
   "outputs": [
    {
     "data": {
      "text/plain": [
       "[17, 13, 8, 4, 4, 1]"
      ]
     },
     "execution_count": 25,
     "metadata": {},
     "output_type": "execute_result"
    }
   ],
   "source": [
    "my_list.sort(reverse=True)\n",
    "my_list"
   ]
  },
  {
   "cell_type": "markdown",
   "metadata": {},
   "source": [
    "Python lists are not restricted to holding information for the same object types. For example, we can create a list that contains integers, floats, and strings. "
   ]
  },
  {
   "cell_type": "code",
   "execution_count": 26,
   "metadata": {},
   "outputs": [],
   "source": [
    "my_second_list = [1, 5, 3.5, 'banana', 17, 'apple']"
   ]
  },
  {
   "cell_type": "markdown",
   "metadata": {},
   "source": [
    "Finally, we can retrieve specific elements from our list using __indexing__. For example, here is how we would retrieve the first element from `my_second_list`."
   ]
  },
  {
   "cell_type": "code",
   "execution_count": 27,
   "metadata": {},
   "outputs": [
    {
     "data": {
      "text/plain": [
       "1"
      ]
     },
     "execution_count": 27,
     "metadata": {},
     "output_type": "execute_result"
    }
   ],
   "source": [
    "my_second_list[0]"
   ]
  },
  {
   "cell_type": "markdown",
   "metadata": {},
   "source": [
    "Indexing is done using a set of square brackets `[]` following the list's name. Notice how we used the integer 0 to retrieve the first element. Importantly, counting in Python starts at 0!"
   ]
  },
  {
   "cell_type": "code",
   "execution_count": 28,
   "metadata": {},
   "outputs": [
    {
     "data": {
      "text/plain": [
       "17"
      ]
     },
     "execution_count": 28,
     "metadata": {},
     "output_type": "execute_result"
    }
   ],
   "source": [
    "my_second_list[4]  # Fifth element in list"
   ]
  },
  {
   "cell_type": "markdown",
   "metadata": {},
   "source": [
    "### Dictionaries\n",
    "\n",
    "**Dictionaries** provide another way of storing information. Dictionaries are always surrounded by curly braces `{}`. They store information as `key`:`value` pairs. For example, the `keys` might be the names of people on your contact list, while the `values` might be information associated with those contacts (e.g., phone numbers, email addresses, etc.).\n",
    "\n",
    "Although numeric values will work as dictionary keys, it's recommended to keep keys _strings_. By contrast, the values can be any object type you would like including integers, floats, strings, lists, or even other dictionaries!\n",
    "\n",
    "Here is a simple dictionary representing the counts of fruits in a shopping bag. It's a simple example but nicely illustrates the syntax for Python dictionaries. "
   ]
  },
  {
   "cell_type": "code",
   "execution_count": 29,
   "metadata": {},
   "outputs": [],
   "source": [
    "fruit_counts = {\n",
    "    'apple': 2,\n",
    "    'banana': 4,\n",
    "    'oranges': 2,\n",
    "    'kiwi': 6\n",
    "}"
   ]
  },
  {
   "cell_type": "markdown",
   "metadata": {},
   "source": [
    "As I'm sure you've guessed, dictionaries also have their own methods! For example, we can retrieve all of the dictionary keys using the `keys()` method, all values using the `values()` method, and both keys and values using the `items()` method."
   ]
  },
  {
   "cell_type": "code",
   "execution_count": 30,
   "metadata": {},
   "outputs": [
    {
     "data": {
      "text/plain": [
       "dict_keys(['apple', 'banana', 'oranges', 'kiwi'])"
      ]
     },
     "execution_count": 30,
     "metadata": {},
     "output_type": "execute_result"
    }
   ],
   "source": [
    "fruit_counts.keys()"
   ]
  },
  {
   "cell_type": "code",
   "execution_count": 31,
   "metadata": {},
   "outputs": [
    {
     "data": {
      "text/plain": [
       "dict_values([2, 4, 2, 6])"
      ]
     },
     "execution_count": 31,
     "metadata": {},
     "output_type": "execute_result"
    }
   ],
   "source": [
    "fruit_counts.values()"
   ]
  },
  {
   "cell_type": "code",
   "execution_count": 32,
   "metadata": {},
   "outputs": [
    {
     "data": {
      "text/plain": [
       "dict_items([('apple', 2), ('banana', 4), ('oranges', 2), ('kiwi', 6)])"
      ]
     },
     "execution_count": 32,
     "metadata": {},
     "output_type": "execute_result"
    }
   ],
   "source": [
    "fruit_counts.items()"
   ]
  },
  {
   "cell_type": "markdown",
   "metadata": {},
   "source": [
    "## 1.5 For loops and conditionals"
   ]
  },
  {
   "cell_type": "markdown",
   "metadata": {},
   "source": [
    "We will now move away from specific object types in Python and explore some of its other features such as __iteration__ and __conditional statements__.\n",
    "\n",
    "### 1.5.1 Iteration using for loops"
   ]
  },
  {
   "cell_type": "markdown",
   "metadata": {},
   "source": [
    "Often in programming and data analysis we want to perform the same operation on multiple input values, one after another. For example, we might want to add a number to every element in a list, or loop through all the the keys in a dictionary and perform some operation with their values. \n",
    "\n",
    "In Python, this is accomplished using the **for** keyword. Let's look at an example. Here, we will first __iterate__ through all of the elements in `my_second_list` that we created above."
   ]
  },
  {
   "cell_type": "code",
   "execution_count": 33,
   "metadata": {},
   "outputs": [
    {
     "data": {
      "text/plain": [
       "[1, 5, 3.5, 'banana', 17, 'apple']"
      ]
     },
     "execution_count": 33,
     "metadata": {},
     "output_type": "execute_result"
    }
   ],
   "source": [
    "my_second_list"
   ]
  },
  {
   "cell_type": "code",
   "execution_count": 34,
   "metadata": {},
   "outputs": [
    {
     "name": "stdout",
     "output_type": "stream",
     "text": [
      "1\n",
      "5\n",
      "3.5\n",
      "banana\n",
      "17\n",
      "apple\n"
     ]
    }
   ],
   "source": [
    "for elem in my_second_list:\n",
    "    print(elem)"
   ]
  },
  {
   "cell_type": "markdown",
   "metadata": {},
   "source": [
    "In this example, we iterate through each element in `my_second_list`. On each iteration, the `elem` variable is used as a placeholder for the element in the list. We print `elem` on each iteration using the `print()` function.\n",
    "\n",
    "We are not limited to iterating through object's we've already created. For example, we could instead iterate through all numbers from 0 to 9, which is accomplished using another built-in Python function, `range()`."
   ]
  },
  {
   "cell_type": "code",
   "execution_count": 35,
   "metadata": {},
   "outputs": [
    {
     "name": "stdout",
     "output_type": "stream",
     "text": [
      "0\n",
      "1\n",
      "2\n",
      "3\n",
      "4\n",
      "5\n",
      "6\n",
      "7\n",
      "8\n",
      "9\n"
     ]
    }
   ],
   "source": [
    "for i in range(10):\n",
    "    print(i)"
   ]
  },
  {
   "cell_type": "markdown",
   "metadata": {},
   "source": [
    "Note that here we are using `i` as a placeholder variable instead of `elem`; what you call this variable is entirely up to you!"
   ]
  },
  {
   "cell_type": "markdown",
   "metadata": {},
   "source": [
    "Finally, let's print out all of the keys and values in `fruit_counts`. This example is a little more complicated. Try to think about what's going on here (_hint_: what does `my_dict.items()` return?). We'll come back to a similar example in more detail in part 2 of the workshop!"
   ]
  },
  {
   "cell_type": "code",
   "execution_count": 36,
   "metadata": {},
   "outputs": [
    {
     "name": "stdout",
     "output_type": "stream",
     "text": [
      "apple 2\n",
      "banana 4\n",
      "oranges 2\n",
      "kiwi 6\n"
     ]
    }
   ],
   "source": [
    "for key, value in fruit_counts.items():\n",
    "    print(key, value)"
   ]
  },
  {
   "cell_type": "markdown",
   "metadata": {},
   "source": [
    "### Conditional statements\n",
    "\n",
    "Sometime we only want to perform an operation when a certain condition is met, and perform a different operation when that condition is not met. This is accomplished using **conditional statements**. \n",
    "\n",
    "For example, perhaps we want to iterate through a list and `print` one statement **if** the number is GREATER than 10, and a different statement otherwise (i.e., **else**). The `print` statements are helpful here because they illustrate the logic of our conditional statements and help confirm that they're working."
   ]
  },
  {
   "cell_type": "code",
   "execution_count": 37,
   "metadata": {},
   "outputs": [
    {
     "name": "stdout",
     "output_type": "stream",
     "text": [
      "17 This number is GREATER than 10!\n",
      "13 This number is GREATER than 10!\n",
      "8 This number is LESS than 10!\n",
      "4 This number is LESS than 10!\n",
      "4 This number is LESS than 10!\n",
      "1 This number is LESS than 10!\n"
     ]
    }
   ],
   "source": [
    "for elem in my_list:\n",
    "    if elem > 10:\n",
    "        print(elem, \"This number is GREATER than 10!\")\n",
    "    else:\n",
    "        print(elem, \"This number is LESS than 10!\")"
   ]
  },
  {
   "cell_type": "markdown",
   "metadata": {},
   "source": [
    "We can also apply custom functions to elements in our list based on whether a certain condition is met. Let's use our `add_3()` function to add 3 to elements in our list that are greater than 10:"
   ]
  },
  {
   "cell_type": "code",
   "execution_count": 38,
   "metadata": {},
   "outputs": [
    {
     "name": "stdout",
     "output_type": "stream",
     "text": [
      "17 plus 3 equals 20\n",
      "13 plus 3 equals 16\n",
      "This number is less than 10!\n",
      "This number is less than 10!\n",
      "This number is less than 10!\n",
      "This number is less than 10!\n"
     ]
    }
   ],
   "source": [
    "for elem in my_list:\n",
    "    if elem > 10:\n",
    "        value_plus_3 = add_3(elem)\n",
    "        print(elem, \"plus 3 equals\", value_plus_3)\n",
    "    else:\n",
    "        print(\"This number is less than 10!\")"
   ]
  },
  {
   "cell_type": "markdown",
   "metadata": {},
   "source": [
    "This example is a bit dense so we'll unpack it in more detail. \n",
    "\n",
    "First, we iterate throught the elements in our list using the **for** keyword, similar to the example above.\n",
    "\n",
    "Next, we check **if** the element is LESS than 10, similar to the previous example. \n",
    "\n",
    "If the number is less than 10, we use our custom function `add_3()` to add 3 to the number and assign the result to a variable called `value_plus_3`, and finally we print this value along with the original number and some text. \n",
    "\n",
    "If the number is greater or equal to 10 (i.e., **else**), we print \"This number is less than 10!\""
   ]
  }
 ],
 "metadata": {
  "kernelspec": {
   "display_name": "Python 3",
   "language": "python",
   "name": "python3"
  },
  "language_info": {
   "codemirror_mode": {
    "name": "ipython",
    "version": 3
   },
   "file_extension": ".py",
   "mimetype": "text/x-python",
   "name": "python",
   "nbconvert_exporter": "python",
   "pygments_lexer": "ipython3",
   "version": "3.8.7"
  }
 },
 "nbformat": 4,
 "nbformat_minor": 4
}
